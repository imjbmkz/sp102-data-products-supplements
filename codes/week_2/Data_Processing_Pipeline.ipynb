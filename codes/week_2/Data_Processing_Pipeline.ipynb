{
  "nbformat": 4,
  "nbformat_minor": 0,
  "metadata": {
    "colab": {
      "name": "Data Processing Pipeline",
      "provenance": [],
      "authorship_tag": "ABX9TyO+ztD64WFbnUyz1XQucRSJ",
      "include_colab_link": true
    },
    "kernelspec": {
      "name": "python3",
      "display_name": "Python 3"
    },
    "language_info": {
      "name": "python"
    }
  },
  "cells": [
    {
      "cell_type": "markdown",
      "metadata": {
        "id": "view-in-github",
        "colab_type": "text"
      },
      "source": [
        "<a href=\"https://colab.research.google.com/github/imjbmkz/sp102-data-products-supplements/blob/main/codes/week_2/Data_Processing_Pipeline.ipynb\" target=\"_parent\"><img src=\"https://colab.research.google.com/assets/colab-badge.svg\" alt=\"Open In Colab\"/></a>"
      ]
    },
    {
      "cell_type": "markdown",
      "source": [
        "#### Installing needed packages\n",
        "The line below installs `apache-beam` package which is used for beam programming and making pipelines."
      ],
      "metadata": {
        "id": "R4_VIM_gekYh"
      }
    },
    {
      "cell_type": "code",
      "source": [
        "# %%bash\n",
        "# pip install apache-beam[gcp]"
      ],
      "metadata": {
        "id": "4pgXFI4befog"
      },
      "execution_count": null,
      "outputs": []
    },
    {
      "cell_type": "markdown",
      "source": [
        "Using Google Cloud Platform (GCP), importing ReadFromText and WriteToText functions of `apache-beam` package results to an error. The below code installs a missing package."
      ],
      "metadata": {
        "id": "y2joiFzFe6QT"
      }
    },
    {
      "cell_type": "code",
      "source": [
        "# pip install pyparsing==2.4.2"
      ],
      "metadata": {
        "id": "Ia19T2KefQqk"
      },
      "execution_count": null,
      "outputs": []
    },
    {
      "cell_type": "markdown",
      "source": [
        "When using Google Colab, it has to be authenticated first before we start running pipelines in GCP."
      ],
      "metadata": {
        "id": "UuSjLa2HgSXK"
      }
    },
    {
      "cell_type": "code",
      "source": [
        "from google.colab import auth\n",
        "auth.authenticate_user()\n",
        "print('Authenticated.')"
      ],
      "metadata": {
        "colab": {
          "base_uri": "https://localhost:8080/"
        },
        "id": "7asnQ9_DgTcM",
        "outputId": "70f32dbe-64d0-4936-9a98-d012cd7b2908"
      },
      "execution_count": null,
      "outputs": [
        {
          "output_type": "stream",
          "name": "stdout",
          "text": [
            "Authenticated.\n"
          ]
        }
      ]
    },
    {
      "cell_type": "code",
      "source": [
        "project_id = 'your-project-id'\n",
        "!gcloud config set project {project_id}"
      ],
      "metadata": {
        "colab": {
          "base_uri": "https://localhost:8080/"
        },
        "id": "sMwDJ5jSgqmW",
        "outputId": "24d79533-27d5-4d27-a30f-91968b3be85d"
      },
      "execution_count": null,
      "outputs": [
        {
          "output_type": "stream",
          "name": "stdout",
          "text": [
            "Updated property [core/project].\n"
          ]
        }
      ]
    },
    {
      "cell_type": "markdown",
      "source": [
        "#### Importing packages\n",
        "The line below imports the necessary functions and packages."
      ],
      "metadata": {
        "id": "cMcy98ife0qn"
      }
    },
    {
      "cell_type": "code",
      "execution_count": null,
      "metadata": {
        "id": "rVkeSgLLwuV3"
      },
      "outputs": [],
      "source": [
        "import apache_beam as beam\n",
        "from apache_beam.io.textio import ReadFromText\n",
        "from apache_beam.io.textio import WriteToText"
      ]
    },
    {
      "cell_type": "code",
      "source": [
        "## replace parameters with your values\n",
        "staging_location = 'gs://your-bucket-name/staging'\n",
        "temp_location = 'gs://your-bucket-name/temp'\n",
        "job_name = 'dataflow-crypto'\n",
        "project_id = 'your-project-id'\n",
        "source_bucket= 'your-bucket-name'\n",
        "target_bucket = 'your-bucket-name'\n",
        "region = 'us-central1'"
      ],
      "metadata": {
        "id": "y1XOZe34CGKM"
      },
      "execution_count": null,
      "outputs": []
    },
    {
      "cell_type": "code",
      "source": [
        "def run(project, source_bucket, target_bucket):\n",
        "    import csv\n",
        "    options = {\n",
        "        'staging_location': staging_location,\n",
        "        'temp_location': temp_location,\n",
        "        'job_name': job_name,\n",
        "        'project': project,\n",
        "        'max_num_workers': 24,\n",
        "        'teardown_policy': 'TEARDOWN_ALWAYS',\n",
        "        'no_save_main_session': True,\n",
        "        'runner': 'DataflowRunner',\n",
        "        'region':region\n",
        "      }\n",
        "    options = beam.pipeline.PipelineOptions(flags=[], **options)\n",
        "    \n",
        "    crypto_dataset = 'gs://{}/crypto-markets.csv'.format(source_bucket)\n",
        "    processed_ds = 'gs://{}/transformed-crypto-bitcoin'.format(target_bucket)\n",
        "\n",
        "    pipeline = beam.Pipeline(options=options)\n",
        "\n",
        "    # 0:slug, 3:date, 5:open, 6:high, 7:low, 8:close\n",
        "    rows = (\n",
        "        pipeline |\n",
        "            'Read from bucket' >> ReadFromText(crypto_dataset) |\n",
        "            'Tokenize as csv columns' >> beam.Map(lambda line: next(csv.reader([line]))) |\n",
        "            'Select columns' >> beam.Map(lambda fields: (fields[0], fields[3], fields[5], fields[6], fields[7], fields[8])) |\n",
        "            'Filter bitcoin rows' >> beam.Filter(lambda row: row[0] == 'bitcoin')\n",
        "        )\n",
        "        \n",
        "    combined = (\n",
        "        rows |\n",
        "            'Write to bucket' >> beam.Map(lambda slug, date, open, high, low, close: '{},{},{},{},{},{}'.format(slug, date, open, high, low, close)) |\n",
        "            WriteToText(\n",
        "                file_path_prefix=processed_ds,\n",
        "                file_name_suffix=\".csv\", num_shards=2,\n",
        "                shard_name_template=\"-SS-of-NN\",\n",
        "                header='slug, date, open, high, low, close')\n",
        "        )\n",
        "    pipeline.run()"
      ],
      "metadata": {
        "id": "yxAx-eIcCJR4"
      },
      "execution_count": null,
      "outputs": []
    },
    {
      "cell_type": "code",
      "source": [
        "if __name__ == '__main__':\n",
        "    print ('Run pipeline on the cloud')\n",
        "    run(project=project_id, source_bucket=source_bucket, target_bucket=target_bucket)"
      ],
      "metadata": {
        "id": "RL5BhbuMCJ7M"
      },
      "execution_count": null,
      "outputs": []
    }
  ]
}